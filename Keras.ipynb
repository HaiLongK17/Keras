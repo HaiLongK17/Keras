{
  "nbformat": 4,
  "nbformat_minor": 0,
  "metadata": {
    "colab": {
      "name": "Keras_CNN_Basic.ipynb",
      "provenance": [],
      "collapsed_sections": [],
      "toc_visible": true
    },
    "kernelspec": {
      "name": "python3",
      "display_name": "Python 3"
    },
    "accelerator": "GPU"
  },
  "cells": [
    {
      "cell_type": "markdown",
      "metadata": {
        "id": "L7Dfdh6ihDJN"
      },
      "source": [
        "#Thư viện"
      ]
    },
    {
      "cell_type": "code",
      "metadata": {
        "id": "tZXEX_HPe34k"
      },
      "source": [
        "from keras.models import Sequential\n",
        "from keras.layers import Dense, Conv2D, Flatten, MaxPooling2D\n",
        "import matplotlib.pyplot as plt\n",
        "from keras.datasets import cifar10\n",
        "from keras.utils import to_categorical\n",
        "import numpy as np"
      ],
      "execution_count": null,
      "outputs": []
    },
    {
      "cell_type": "markdown",
      "metadata": {
        "id": "ew2lUqMUhF25"
      },
      "source": [
        "#Load data"
      ]
    },
    {
      "cell_type": "markdown",
      "metadata": {
        "id": "YPTlZAJFhH0f"
      },
      "source": [
        "Bộ dữ liệu CIFAR-10 gồm 50,000 ảnh 32x32 màu để train và 10,000 để test, label gồm 10: airplane, automobile, bird, cat, .."
      ]
    },
    {
      "cell_type": "code",
      "metadata": {
        "id": "dRsCHkB7e_7i",
        "colab": {
          "base_uri": "https://localhost:8080/"
        },
        "outputId": "35cc6090-e37d-44eb-f8bc-b88083b2f27d"
      },
      "source": [
        "(X_train, y_train), (X_test, y_test) = cifar10.load_data()"
      ],
      "execution_count": null,
      "outputs": [
        {
          "output_type": "stream",
          "text": [
            "Downloading data from https://www.cs.toronto.edu/~kriz/cifar-10-python.tar.gz\n",
            "170500096/170498071 [==============================] - 7s 0us/step\n"
          ],
          "name": "stdout"
        }
      ]
    },
    {
      "cell_type": "code",
      "metadata": {
        "id": "GF4gLHfpfBsg",
        "colab": {
          "base_uri": "https://localhost:8080/",
          "height": 283
        },
        "outputId": "f2796255-b97e-4372-fd1b-b8a006a446b1"
      },
      "source": [
        "plt.imshow(X_train[0])"
      ],
      "execution_count": null,
      "outputs": [
        {
          "output_type": "execute_result",
          "data": {
            "text/plain": [
              "<matplotlib.image.AxesImage at 0x7f47c2c5dd90>"
            ]
          },
          "metadata": {
            "tags": []
          },
          "execution_count": 8
        },
        {
          "output_type": "display_data",
          "data": {
            "image/png": "[encoded data removed]",
            "text/plain": [
              "<Figure size 432x288 with 1 Axes>"
            ]
          },
          "metadata": {
            "tags": [],
            "needs_background": "light"
          }
        }
      ]
    },
    {
      "cell_type": "markdown",
      "metadata": {
        "id": "2CP_hj1mjjov"
      },
      "source": [
        "#Xử lý dữ liệu"
      ]
    },
    {
      "cell_type": "markdown",
      "metadata": {
        "id": "WcyKjOcviZf5"
      },
      "source": [
        "one hot encoding"
      ]
    },
    {
      "cell_type": "code",
      "metadata": {
        "id": "5DQ1w6q9fPuQ",
        "colab": {
          "base_uri": "https://localhost:8080/"
        },
        "outputId": "ec1d157d-0d79-428c-9f5e-b58a1df6495f"
      },
      "source": [
        "#one-hot encode target column\n",
        "y_train = to_categorical(y_train)\n",
        "y_test = to_categorical(y_test)\n",
        "\n",
        "y_train[0]"
      ],
      "execution_count": null,
      "outputs": [
        {
          "output_type": "execute_result",
          "data": {
            "text/plain": [
              "array([0., 0., 0., 0., 0., 0., 1., 0., 0., 0.], dtype=float32)"
            ]
          },
          "metadata": {
            "tags": []
          },
          "execution_count": 10
        }
      ]
    },
    {
      "cell_type": "code",
      "metadata": {
        "id": "XHPxG8Pdi0NA"
      },
      "source": [
        "#convert int to float\n",
        "X_train = X_train.astype('float32')\n",
        "X_test = X_test.astype('float32')\n",
        "#chuẩn hoá từ màu 0-1\n",
        "X_train = X_train/255.0\n",
        "X_test = X_test/225.0"
      ],
      "execution_count": null,
      "outputs": []
    },
    {
      "cell_type": "markdown",
      "metadata": {
        "id": "U-cqEusOjnxQ"
      },
      "source": [
        "# Tạo model"
      ]
    },
    {
      "cell_type": "code",
      "metadata": {
        "id": "ykVzQWqrfRYE"
      },
      "source": [
        "#create model\n",
        "model = Sequential()\n",
        "\n",
        "#add model layers\n",
        "model.add(Conv2D(32, kernel_size=(3,3), activation='relu', input_shape=(32,32,3), padding='same') )\n",
        "model.add(Conv2D(32, kernel_size=(3,3), activation='relu',padding='same'))\n",
        "model.add(MaxPooling2D(pool_size=(2,2), strides=2))\n",
        "\n",
        "model.add(Conv2D(64, kernel_size=(3,3), activation='relu',padding='same'))\n",
        "model.add(Conv2D(64, kernel_size=(3,3), activation='relu',padding='same'))\n",
        "model.add(MaxPooling2D(pool_size=(2,2), strides=2))\n",
        "\n",
        "model.add(Conv2D(128, kernel_size=(3,3), activation='relu',padding='same'))\n",
        "model.add(Conv2D(128, kernel_size=(3,3), activation='relu',padding='same'))\n",
        "model.add(MaxPooling2D(pool_size=(2,2), strides=2))\n",
        "\n",
        "model.add(Flatten())\n",
        "model.add(Dense(10, activation='softmax'))"
      ],
      "execution_count": null,
      "outputs": []
    },
    {
      "cell_type": "code",
      "metadata": {
        "id": "tr_v5ApTfTRM",
        "colab": {
          "base_uri": "https://localhost:8080/"
        },
        "outputId": "3bf38630-0464-4a24-ca3a-fb492169cd44"
      },
      "source": [
        "model.compile(optimizer='adam', loss='categorical_crossentropy', metrics=['accuracy'])\n",
        "model.summary()"
      ],
      "execution_count": null,
      "outputs": [
        {
          "output_type": "stream",
          "text": [
            "Model: \"sequential_1\"\n",
            "_________________________________________________________________\n",
            "Layer (type)                 Output Shape              Param #   \n",
            "=================================================================\n",
            "conv2d_4 (Conv2D)            (None, 32, 32, 32)        896       \n",
            "_________________________________________________________________\n",
            "conv2d_5 (Conv2D)            (None, 32, 32, 32)        9248      \n",
            "_________________________________________________________________\n",
            "max_pooling2d_2 (MaxPooling2 (None, 16, 16, 32)        0         \n",
            "_________________________________________________________________\n",
            "conv2d_6 (Conv2D)            (None, 16, 16, 64)        18496     \n",
            "_________________________________________________________________\n",
            "conv2d_7 (Conv2D)            (None, 16, 16, 64)        36928     \n",
            "_________________________________________________________________\n",
            "max_pooling2d_3 (MaxPooling2 (None, 8, 8, 64)          0         \n",
            "_________________________________________________________________\n",
            "conv2d_8 (Conv2D)            (None, 8, 8, 128)         73856     \n",
            "_________________________________________________________________\n",
            "conv2d_9 (Conv2D)            (None, 8, 8, 128)         147584    \n",
            "_________________________________________________________________\n",
            "max_pooling2d_4 (MaxPooling2 (None, 4, 4, 128)         0         \n",
            "_________________________________________________________________\n",
            "flatten_1 (Flatten)          (None, 2048)              0         \n",
            "_________________________________________________________________\n",
            "dense_1 (Dense)              (None, 10)                20490     \n",
            "=================================================================\n",
            "Total params: 307,498\n",
            "Trainable params: 307,498\n",
            "Non-trainable params: 0\n",
            "_________________________________________________________________\n"
          ],
          "name": "stdout"
        }
      ]
    },
    {
      "cell_type": "markdown",
      "metadata": {
        "id": "LjT8zxm3oYoK"
      },
      "source": [
        "#Train model"
      ]
    },
    {
      "cell_type": "code",
      "metadata": {
        "id": "liN_r3KyfVBc",
        "colab": {
          "base_uri": "https://localhost:8080/"
        },
        "outputId": "1c35ff9e-03c3-4252-c8e8-27e3b62734a8"
      },
      "source": [
        "history = model.fit(X_train, y_train,validation_data=(X_test, y_test), epochs=15 ,batch_size=64)"
      ],
      "execution_count": null,
      "outputs": [
        {
          "output_type": "stream",
          "text": [
            "Epoch 1/15\n",
            "782/782 [==============================] - 16s 20ms/step - loss: 1.7672 - accuracy: 0.3505 - val_loss: 1.2159 - val_accuracy: 0.5582\n",
            "Epoch 2/15\n",
            "782/782 [==============================] - 15s 19ms/step - loss: 1.0806 - accuracy: 0.6179 - val_loss: 0.9568 - val_accuracy: 0.6703\n",
            "Epoch 3/15\n",
            "782/782 [==============================] - 15s 19ms/step - loss: 0.8272 - accuracy: 0.7160 - val_loss: 0.8394 - val_accuracy: 0.7173\n",
            "Epoch 4/15\n",
            "782/782 [==============================] - 15s 19ms/step - loss: 0.6733 - accuracy: 0.7649 - val_loss: 0.7373 - val_accuracy: 0.7498\n",
            "Epoch 5/15\n",
            "782/782 [==============================] - 15s 19ms/step - loss: 0.5478 - accuracy: 0.8084 - val_loss: 0.7486 - val_accuracy: 0.7540\n",
            "Epoch 6/15\n",
            "782/782 [==============================] - 15s 19ms/step - loss: 0.4612 - accuracy: 0.8379 - val_loss: 0.8276 - val_accuracy: 0.7457\n",
            "Epoch 7/15\n",
            "782/782 [==============================] - 15s 19ms/step - loss: 0.3733 - accuracy: 0.8709 - val_loss: 0.7716 - val_accuracy: 0.7592\n",
            "Epoch 8/15\n",
            "782/782 [==============================] - 15s 19ms/step - loss: 0.3057 - accuracy: 0.8944 - val_loss: 0.8655 - val_accuracy: 0.7532\n",
            "Epoch 9/15\n",
            "782/782 [==============================] - 15s 20ms/step - loss: 0.2553 - accuracy: 0.9099 - val_loss: 0.8670 - val_accuracy: 0.7648\n",
            "Epoch 10/15\n",
            "782/782 [==============================] - 15s 19ms/step - loss: 0.2033 - accuracy: 0.9283 - val_loss: 0.9358 - val_accuracy: 0.7590\n",
            "Epoch 11/15\n",
            "782/782 [==============================] - 15s 19ms/step - loss: 0.1662 - accuracy: 0.9421 - val_loss: 1.1358 - val_accuracy: 0.7484\n",
            "Epoch 12/15\n",
            "782/782 [==============================] - 15s 19ms/step - loss: 0.1653 - accuracy: 0.9413 - val_loss: 1.0603 - val_accuracy: 0.7653\n",
            "Epoch 13/15\n",
            "782/782 [==============================] - 15s 19ms/step - loss: 0.1308 - accuracy: 0.9538 - val_loss: 1.1601 - val_accuracy: 0.7696\n",
            "Epoch 14/15\n",
            "782/782 [==============================] - 15s 19ms/step - loss: 0.1125 - accuracy: 0.9600 - val_loss: 1.2011 - val_accuracy: 0.7558\n",
            "Epoch 15/15\n",
            "782/782 [==============================] - 15s 19ms/step - loss: 0.1089 - accuracy: 0.9619 - val_loss: 1.3398 - val_accuracy: 0.7494\n"
          ],
          "name": "stdout"
        }
      ]
    },
    {
      "cell_type": "code",
      "metadata": {
        "colab": {
          "base_uri": "https://localhost:8080/"
        },
        "id": "0K1h9cX4laDY",
        "outputId": "d92c97ac-1167-4e5a-f28a-d32774979252"
      },
      "source": [
        "scores = model.evaluate(X_test, y_test, verbose=1)\n",
        "print('Test loss:', scores[0]) \n",
        "print('Test accuracy:', scores[1])"
      ],
      "execution_count": null,
      "outputs": [
        {
          "output_type": "stream",
          "text": [
            "313/313 [==============================] - 2s 7ms/step - loss: 1.3398 - accuracy: 0.7494\n",
            "Test loss: 1.3397659063339233\n",
            "Test accuracy: 0.7494000196456909\n"
          ],
          "name": "stdout"
        }
      ]
    },
    {
      "cell_type": "code",
      "metadata": {
        "colab": {
          "base_uri": "https://localhost:8080/",
          "height": 545
        },
        "id": "xCgP5KuUm8ni",
        "outputId": "e6b7d971-cbc4-4530-864c-51a784be8da1"
      },
      "source": [
        "import matplotlib.pyplot as plt\n",
        "# plot loss\n",
        "plt.subplot()\n",
        "plt.title('Cross Entropy Loss')\n",
        "plt.plot(history.history['loss'], color='blue', label='train')\n",
        "plt.plot(history.history['val_loss'], color='orange', label='test')\n",
        "plt.show()\n",
        "# plot accuracy\n",
        "plt.subplot()\n",
        "plt.title('Classification Accuracy')\n",
        "plt.plot(history.history['accuracy'], color='blue', label='train')\n",
        "plt.plot(history.history['val_accuracy'], color='orange', label='test')\n",
        "\n",
        "plt.show()"
      ],
      "execution_count": null,
      "outputs": [
        {
          "output_type": "display_data",
          "data": {
            "image/png": "[encoded data removed]",
            "text/plain": [
              "<Figure size 432x288 with 1 Axes>"
            ]
          },
          "metadata": {
            "tags": [],
            "needs_background": "light"
          }
        },
        {
          "output_type": "display_data",
          "data": {
            "image/png": "[encoded data removed]",
            "text/plain": [
              "<Figure size 432x288 with 1 Axes>"
            ]
          },
          "metadata": {
            "tags": [],
            "needs_background": "light"
          }
        }
      ]
    }
  ]
}